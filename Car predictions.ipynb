{
 "cells": [
  {
   "cell_type": "code",
   "execution_count": 100,
   "metadata": {},
   "outputs": [],
   "source": [
    "# data manipulation\n",
    "import pandas as pd\n",
    "import numpy as np\n",
    "\n",
    "# data visualization\n",
    "import seaborn as sns\n",
    "import matplotlib.pyplot as plt\n",
    "\n",
    "# pre-processing\n",
    "from sklearn.model_selection import train_test_split\n",
    "from sklearn.preprocessing import StandardScaler\n",
    "from sklearn.pipeline import make_pipeline\n",
    "from sklearn.preprocessing import LabelEncoder\n",
    "\n",
    "\n",
    "# algorithms\n",
    "\n",
    "from sklearn.linear_model import LinearRegression\n",
    "from sklearn.linear_model import Ridge\n",
    "from sklearn.tree import DecisionTreeClassifier\n",
    "\n",
    "# ensemble learning\n",
    "from sklearn.ensemble import RandomForestRegressor\n",
    "from xgboost.sklearn import XGBRegressor\n",
    "\n",
    "# metrics\n",
    "from sklearn import  metrics\n",
    "from sklearn.model_selection import GridSearchCV\n",
    "\n",
    "import scipy.stats as ss\n",
    "from glob import glob\n",
    "\n",
    "# suppress anoying warnings\n",
    "import warnings\n",
    "warnings.filterwarnings(\"ignore\")\n",
    "\n"
   ]
  },
  {
   "cell_type": "code",
   "execution_count": 24,
   "metadata": {},
   "outputs": [],
   "source": [
    "# creating list of files\n",
    "\n",
    "cars_files = sorted(glob('C:\\\\Users\\\\dell\\\\Desktop\\\\cars\\\\*.csv'))"
   ]
  },
  {
   "cell_type": "code",
   "execution_count": 25,
   "metadata": {},
   "outputs": [
    {
     "data": {
      "text/plain": [
       "['C:\\\\Users\\\\dell\\\\Desktop\\\\cars\\\\audi.csv',\n",
       " 'C:\\\\Users\\\\dell\\\\Desktop\\\\cars\\\\bmw.csv',\n",
       " 'C:\\\\Users\\\\dell\\\\Desktop\\\\cars\\\\cclass.csv',\n",
       " 'C:\\\\Users\\\\dell\\\\Desktop\\\\cars\\\\focus.csv',\n",
       " 'C:\\\\Users\\\\dell\\\\Desktop\\\\cars\\\\ford.csv',\n",
       " 'C:\\\\Users\\\\dell\\\\Desktop\\\\cars\\\\hyundi.csv',\n",
       " 'C:\\\\Users\\\\dell\\\\Desktop\\\\cars\\\\merc.csv',\n",
       " 'C:\\\\Users\\\\dell\\\\Desktop\\\\cars\\\\skoda.csv',\n",
       " 'C:\\\\Users\\\\dell\\\\Desktop\\\\cars\\\\toyota.csv',\n",
       " 'C:\\\\Users\\\\dell\\\\Desktop\\\\cars\\\\vauxhall.csv',\n",
       " 'C:\\\\Users\\\\dell\\\\Desktop\\\\cars\\\\vw.csv']"
      ]
     },
     "execution_count": 25,
     "metadata": {},
     "output_type": "execute_result"
    }
   ],
   "source": [
    "# checking\n",
    "\n",
    "cars_files"
   ]
  },
  {
   "cell_type": "code",
   "execution_count": 26,
   "metadata": {},
   "outputs": [],
   "source": [
    "# list of brands\n",
    "\n",
    "cars_brands = ['audi','bmw','mercedes','ford1','ford', 'hyundai', 'mercedes1','skoda','toyota','vauxhall','vw']\n",
    "    "
   ]
  },
  {
   "cell_type": "code",
   "execution_count": 27,
   "metadata": {},
   "outputs": [],
   "source": [
    "# creating dict with car brand and car file\n",
    "\n",
    "cars_names_files = dict(zip(cars_brands,cars_files))"
   ]
  },
  {
   "cell_type": "code",
   "execution_count": 28,
   "metadata": {},
   "outputs": [
    {
     "data": {
      "text/plain": [
       "{'audi': 'C:\\\\Users\\\\dell\\\\Desktop\\\\cars\\\\audi.csv',\n",
       " 'bmw': 'C:\\\\Users\\\\dell\\\\Desktop\\\\cars\\\\bmw.csv',\n",
       " 'mercedes': 'C:\\\\Users\\\\dell\\\\Desktop\\\\cars\\\\cclass.csv',\n",
       " 'ford1': 'C:\\\\Users\\\\dell\\\\Desktop\\\\cars\\\\focus.csv',\n",
       " 'ford': 'C:\\\\Users\\\\dell\\\\Desktop\\\\cars\\\\ford.csv',\n",
       " 'hyundai': 'C:\\\\Users\\\\dell\\\\Desktop\\\\cars\\\\hyundi.csv',\n",
       " 'mercedes1': 'C:\\\\Users\\\\dell\\\\Desktop\\\\cars\\\\merc.csv',\n",
       " 'skoda': 'C:\\\\Users\\\\dell\\\\Desktop\\\\cars\\\\skoda.csv',\n",
       " 'toyota': 'C:\\\\Users\\\\dell\\\\Desktop\\\\cars\\\\toyota.csv',\n",
       " 'vauxhall': 'C:\\\\Users\\\\dell\\\\Desktop\\\\cars\\\\vauxhall.csv',\n",
       " 'vw': 'C:\\\\Users\\\\dell\\\\Desktop\\\\cars\\\\vw.csv'}"
      ]
     },
     "execution_count": 28,
     "metadata": {},
     "output_type": "execute_result"
    }
   ],
   "source": [
    "# checking\n",
    "\n",
    "cars_names_files"
   ]
  },
  {
   "cell_type": "code",
   "execution_count": 29,
   "metadata": {},
   "outputs": [],
   "source": [
    "# concat together all brands in one big dataframe\n",
    "# one file has different columns name, we change it tax(£) for tax\n",
    "\n",
    "all_data = pd.DataFrame()\n",
    "for brand, file in cars_names_files.items():\n",
    "    car_file = pd.read_csv(file)\n",
    "    car_file['brand'] = brand\n",
    "    if np.any(car_file.columns=='tax(£)'):\n",
    "        car_file = car_file.rename(columns={'tax(£)':'tax'})\n",
    "    all_data = pd.concat([all_data,car_file], ignore_index=True)"
   ]
  },
  {
   "cell_type": "code",
   "execution_count": 30,
   "metadata": {},
   "outputs": [],
   "source": [
    "# we have brand mercedes and mercedes1, ford and ford1, we change it for mercedes and ford\n",
    "\n",
    "all_data['brand']=np.where(all_data['brand']=='ford1','ford', all_data['brand'])\n",
    "\n",
    "all_data['brand']=np.where(all_data['brand']=='mercedes1','mercedes', all_data['brand'])"
   ]
  },
  {
   "cell_type": "code",
   "execution_count": 31,
   "metadata": {},
   "outputs": [
    {
     "data": {
      "text/html": [
       "<div>\n",
       "<style scoped>\n",
       "    .dataframe tbody tr th:only-of-type {\n",
       "        vertical-align: middle;\n",
       "    }\n",
       "\n",
       "    .dataframe tbody tr th {\n",
       "        vertical-align: top;\n",
       "    }\n",
       "\n",
       "    .dataframe thead th {\n",
       "        text-align: right;\n",
       "    }\n",
       "</style>\n",
       "<table border=\"1\" class=\"dataframe\">\n",
       "  <thead>\n",
       "    <tr style=\"text-align: right;\">\n",
       "      <th></th>\n",
       "      <th>model</th>\n",
       "      <th>year</th>\n",
       "      <th>price</th>\n",
       "      <th>transmission</th>\n",
       "      <th>mileage</th>\n",
       "      <th>fuelType</th>\n",
       "      <th>tax</th>\n",
       "      <th>mpg</th>\n",
       "      <th>engineSize</th>\n",
       "      <th>brand</th>\n",
       "    </tr>\n",
       "  </thead>\n",
       "  <tbody>\n",
       "    <tr>\n",
       "      <th>0</th>\n",
       "      <td>A1</td>\n",
       "      <td>2017</td>\n",
       "      <td>12500</td>\n",
       "      <td>Manual</td>\n",
       "      <td>15735</td>\n",
       "      <td>Petrol</td>\n",
       "      <td>150.0</td>\n",
       "      <td>55.4</td>\n",
       "      <td>1.4</td>\n",
       "      <td>audi</td>\n",
       "    </tr>\n",
       "    <tr>\n",
       "      <th>1</th>\n",
       "      <td>A6</td>\n",
       "      <td>2016</td>\n",
       "      <td>16500</td>\n",
       "      <td>Automatic</td>\n",
       "      <td>36203</td>\n",
       "      <td>Diesel</td>\n",
       "      <td>20.0</td>\n",
       "      <td>64.2</td>\n",
       "      <td>2.0</td>\n",
       "      <td>audi</td>\n",
       "    </tr>\n",
       "    <tr>\n",
       "      <th>2</th>\n",
       "      <td>A1</td>\n",
       "      <td>2016</td>\n",
       "      <td>11000</td>\n",
       "      <td>Manual</td>\n",
       "      <td>29946</td>\n",
       "      <td>Petrol</td>\n",
       "      <td>30.0</td>\n",
       "      <td>55.4</td>\n",
       "      <td>1.4</td>\n",
       "      <td>audi</td>\n",
       "    </tr>\n",
       "    <tr>\n",
       "      <th>3</th>\n",
       "      <td>A4</td>\n",
       "      <td>2017</td>\n",
       "      <td>16800</td>\n",
       "      <td>Automatic</td>\n",
       "      <td>25952</td>\n",
       "      <td>Diesel</td>\n",
       "      <td>145.0</td>\n",
       "      <td>67.3</td>\n",
       "      <td>2.0</td>\n",
       "      <td>audi</td>\n",
       "    </tr>\n",
       "    <tr>\n",
       "      <th>4</th>\n",
       "      <td>A3</td>\n",
       "      <td>2019</td>\n",
       "      <td>17300</td>\n",
       "      <td>Manual</td>\n",
       "      <td>1998</td>\n",
       "      <td>Petrol</td>\n",
       "      <td>145.0</td>\n",
       "      <td>49.6</td>\n",
       "      <td>1.0</td>\n",
       "      <td>audi</td>\n",
       "    </tr>\n",
       "  </tbody>\n",
       "</table>\n",
       "</div>"
      ],
      "text/plain": [
       "  model  year  price transmission  mileage fuelType    tax   mpg  engineSize  \\\n",
       "0    A1  2017  12500       Manual    15735   Petrol  150.0  55.4         1.4   \n",
       "1    A6  2016  16500    Automatic    36203   Diesel   20.0  64.2         2.0   \n",
       "2    A1  2016  11000       Manual    29946   Petrol   30.0  55.4         1.4   \n",
       "3    A4  2017  16800    Automatic    25952   Diesel  145.0  67.3         2.0   \n",
       "4    A3  2019  17300       Manual     1998   Petrol  145.0  49.6         1.0   \n",
       "\n",
       "  brand  \n",
       "0  audi  \n",
       "1  audi  \n",
       "2  audi  \n",
       "3  audi  \n",
       "4  audi  "
      ]
     },
     "execution_count": 31,
     "metadata": {},
     "output_type": "execute_result"
    }
   ],
   "source": [
    "# checking first 5 rows \n",
    "\n",
    "all_data.head()"
   ]
  },
  {
   "cell_type": "code",
   "execution_count": 32,
   "metadata": {},
   "outputs": [],
   "source": [
    "# shufle data is a good practice when order is not important\n",
    "\n",
    "all_data = all_data.sample(frac=1).reset_index(drop=True)"
   ]
  },
  {
   "cell_type": "code",
   "execution_count": 11,
   "metadata": {},
   "outputs": [
    {
     "data": {
      "text/html": [
       "<div>\n",
       "<style scoped>\n",
       "    .dataframe tbody tr th:only-of-type {\n",
       "        vertical-align: middle;\n",
       "    }\n",
       "\n",
       "    .dataframe tbody tr th {\n",
       "        vertical-align: top;\n",
       "    }\n",
       "\n",
       "    .dataframe thead th {\n",
       "        text-align: right;\n",
       "    }\n",
       "</style>\n",
       "<table border=\"1\" class=\"dataframe\">\n",
       "  <thead>\n",
       "    <tr style=\"text-align: right;\">\n",
       "      <th></th>\n",
       "      <th>model</th>\n",
       "      <th>year</th>\n",
       "      <th>price</th>\n",
       "      <th>transmission</th>\n",
       "      <th>mileage</th>\n",
       "      <th>fuelType</th>\n",
       "      <th>tax</th>\n",
       "      <th>mpg</th>\n",
       "      <th>engineSize</th>\n",
       "      <th>brand</th>\n",
       "    </tr>\n",
       "  </thead>\n",
       "  <tbody>\n",
       "    <tr>\n",
       "      <th>0</th>\n",
       "      <td>Up</td>\n",
       "      <td>2016</td>\n",
       "      <td>6495</td>\n",
       "      <td>Manual</td>\n",
       "      <td>41000</td>\n",
       "      <td>Petrol</td>\n",
       "      <td>20.0</td>\n",
       "      <td>61.4</td>\n",
       "      <td>1.0</td>\n",
       "      <td>vw</td>\n",
       "    </tr>\n",
       "    <tr>\n",
       "      <th>1</th>\n",
       "      <td>Grandland X</td>\n",
       "      <td>2019</td>\n",
       "      <td>15798</td>\n",
       "      <td>Manual</td>\n",
       "      <td>15127</td>\n",
       "      <td>Diesel</td>\n",
       "      <td>145.0</td>\n",
       "      <td>56.5</td>\n",
       "      <td>1.5</td>\n",
       "      <td>vauxhall</td>\n",
       "    </tr>\n",
       "    <tr>\n",
       "      <th>2</th>\n",
       "      <td>1 Series</td>\n",
       "      <td>2016</td>\n",
       "      <td>13950</td>\n",
       "      <td>Semi-Auto</td>\n",
       "      <td>40000</td>\n",
       "      <td>Diesel</td>\n",
       "      <td>20.0</td>\n",
       "      <td>67.3</td>\n",
       "      <td>2.0</td>\n",
       "      <td>bmw</td>\n",
       "    </tr>\n",
       "    <tr>\n",
       "      <th>3</th>\n",
       "      <td>Astra</td>\n",
       "      <td>2018</td>\n",
       "      <td>12799</td>\n",
       "      <td>Manual</td>\n",
       "      <td>19592</td>\n",
       "      <td>Diesel</td>\n",
       "      <td>145.0</td>\n",
       "      <td>72.4</td>\n",
       "      <td>1.6</td>\n",
       "      <td>vauxhall</td>\n",
       "    </tr>\n",
       "    <tr>\n",
       "      <th>4</th>\n",
       "      <td>4 Series</td>\n",
       "      <td>2019</td>\n",
       "      <td>23895</td>\n",
       "      <td>Semi-Auto</td>\n",
       "      <td>5630</td>\n",
       "      <td>Diesel</td>\n",
       "      <td>145.0</td>\n",
       "      <td>65.7</td>\n",
       "      <td>2.0</td>\n",
       "      <td>bmw</td>\n",
       "    </tr>\n",
       "  </tbody>\n",
       "</table>\n",
       "</div>"
      ],
      "text/plain": [
       "          model  year  price transmission  mileage fuelType    tax   mpg  \\\n",
       "0            Up  2016   6495       Manual    41000   Petrol   20.0  61.4   \n",
       "1   Grandland X  2019  15798       Manual    15127   Diesel  145.0  56.5   \n",
       "2      1 Series  2016  13950    Semi-Auto    40000   Diesel   20.0  67.3   \n",
       "3         Astra  2018  12799       Manual    19592   Diesel  145.0  72.4   \n",
       "4      4 Series  2019  23895    Semi-Auto     5630   Diesel  145.0  65.7   \n",
       "\n",
       "   engineSize     brand  \n",
       "0         1.0        vw  \n",
       "1         1.5  vauxhall  \n",
       "2         2.0       bmw  \n",
       "3         1.6  vauxhall  \n",
       "4         2.0       bmw  "
      ]
     },
     "execution_count": 11,
     "metadata": {},
     "output_type": "execute_result"
    }
   ],
   "source": [
    "# let's check now\n",
    "\n",
    "all_data.head()"
   ]
  },
  {
   "cell_type": "code",
   "execution_count": 82,
   "metadata": {},
   "outputs": [
    {
     "data": {
      "text/plain": [
       "(108540, 10)"
      ]
     },
     "execution_count": 82,
     "metadata": {},
     "output_type": "execute_result"
    }
   ],
   "source": [
    "# checking the size \n",
    "\n",
    "all_data.shape"
   ]
  },
  {
   "cell_type": "code",
   "execution_count": 78,
   "metadata": {},
   "outputs": [
    {
     "name": "stdout",
     "output_type": "stream",
     "text": [
      "<class 'pandas.core.frame.DataFrame'>\n",
      "RangeIndex: 108540 entries, 0 to 108539\n",
      "Data columns (total 10 columns):\n",
      " #   Column        Non-Null Count   Dtype  \n",
      "---  ------        --------------   -----  \n",
      " 0   model         108540 non-null  object \n",
      " 1   year          108540 non-null  int64  \n",
      " 2   price         108540 non-null  int64  \n",
      " 3   transmission  108540 non-null  object \n",
      " 4   mileage       108540 non-null  int64  \n",
      " 5   fuelType      108540 non-null  object \n",
      " 6   tax           99187 non-null   float64\n",
      " 7   mpg           99187 non-null   float64\n",
      " 8   engineSize    108540 non-null  float64\n",
      " 9   brand         108540 non-null  object \n",
      "dtypes: float64(3), int64(3), object(4)\n",
      "memory usage: 8.3+ MB\n"
     ]
    }
   ],
   "source": [
    "# checking columns type and missing values (we see missing values in columns :tax, mpg)\n",
    "\n",
    "all_data.info()"
   ]
  },
  {
   "cell_type": "code",
   "execution_count": 12,
   "metadata": {},
   "outputs": [
    {
     "data": {
      "text/plain": [
       "tax    9353\n",
       "mpg    9353\n",
       "dtype: int64"
      ]
     },
     "execution_count": 12,
     "metadata": {},
     "output_type": "execute_result"
    }
   ],
   "source": [
    "# checking missing values \n",
    "\n",
    "missing_values = all_data.isna().sum()\n",
    "missing_values[missing_values>0]"
   ]
  },
  {
   "cell_type": "code",
   "execution_count": 91,
   "metadata": {},
   "outputs": [
    {
     "name": "stdout",
     "output_type": "stream",
     "text": [
      "model - 195\n",
      "[' EcoSport' ' Meriva' ' Tucson' ' Up' ' Corsa' ' A Class' ' C Class'\n",
      " ' Polo' ' Octavia' ' Q7' ' Kuga' ' Q3' ' Q2' ' 1 Series' ' A1' ' S-MAX'\n",
      " ' Tiguan' ' Focus' ' Astra' ' Golf' ' T-Roc' ' Fabia' ' E Class' ' X3'\n",
      " ' Grand C-MAX' ' Ioniq' ' X2' ' Aygo' ' C-MAX' ' Fiesta' ' A5' ' Galaxy'\n",
      " ' Mondeo' ' T-Cross' ' Yeti Outdoor' ' A4' ' 3 Series' ' Mokka X'\n",
      " ' Yaris' ' I10' ' Citigo' ' GLA Class' ' RAV4' ' R8' ' A3' ' I30' ' Kona'\n",
      " ' Adam' ' Golf SV' ' Mokka' ' Insignia' ' Santa Fe' ' Scala' ' GLE Class'\n",
      " ' X7' ' M Class' ' B Class' ' Combo Life' ' 5 Series' ' 7 Series'\n",
      " ' 4 Series' ' Q8' ' RS5' ' KA' ' CLS Class' ' TT' ' X4' ' Kamiq'\n",
      " ' GLB Class' ' Superb' ' RS6' ' Touran' ' Kodiaq' ' B-MAX' ' Sharan'\n",
      " ' Zafira' ' 6 Series' ' V Class' ' Corolla' ' C-HR' ' Q5' ' CL Class'\n",
      " ' Crossland X' ' Auris' ' 2 Series' ' Edge' ' Grandland X' ' A8'\n",
      " ' SL CLASS' ' Passat' ' Scirocco' ' X-CLASS' ' Ka+' ' GL Class' ' X5'\n",
      " ' GLC Class' ' X1' ' Yeti' ' Rapid' ' Z4' ' IX20' ' Touareg'\n",
      " ' Zafira Tourer' ' Shuttle' ' CLA Class' ' I40' ' Caddy Maxi Life'\n",
      " ' I800' ' Viva' ' Tourneo Custom' ' Urban Cruiser' ' A6' ' Caravelle'\n",
      " ' GT86' ' Avensis' ' M3' ' I20' ' Arteon' ' SQ7' ' Verso' ' Karoq'\n",
      " ' IX35' ' i3' ' Eos' ' Prius' ' SLK' ' S Class' ' Beetle' ' GLS Class'\n",
      " ' Tourneo Connect' ' X6' ' A7' ' CC' ' PROACE VERSO' ' RS3' ' GTC' ' M6'\n",
      " ' Puma' ' 8 Series' ' i8' ' M4' ' Land Cruiser' ' Amarok' ' Vivaro'\n",
      " ' Agila' ' Tiguan Allspace' ' SQ5' ' M5' ' Jetta' ' M2' ' Camry'\n",
      " ' Grand Tourneo Connect' ' Caddy' ' G Class' ' IQ' ' Hilux' ' RS4'\n",
      " ' Mustang' ' Tigra' ' Supra' ' S4' ' Terracan' ' CLC Class' ' Antara'\n",
      " ' S3' ' R Class' ' Z3' ' California' ' Caddy Life' ' S8' ' Roomster'\n",
      " ' Getz' ' Fusion' ' Fox' ' Ampera' ' Vectra' ' Veloster' ' CLK' ' Ranger'\n",
      " ' Caddy Maxi' ' Amica' '230' ' Cascada' '180' ' Verso-S' ' S5' ' A2'\n",
      " ' Transit Tourneo' ' Accent' ' Escort' ' Kadjar' ' Streetka' ' RS7' '200'\n",
      " '220']\n",
      "\n",
      "year - 29\n",
      "[2015 2017 2016 2018 2020 2019 2013 2007 2010 2014 2012 2005 2006 2011\n",
      " 2009 2008 2004 2003 2002 1970 2000 1997 2001 1998 1999 1991 1996 1995\n",
      " 2060]\n",
      "\n",
      "price - 13299\n",
      "[ 8140  5991 13698 ... 37966 44899  4893]\n",
      "\n",
      "transmission - 4\n",
      "['Manual' 'Automatic' 'Semi-Auto' 'Other']\n",
      "\n",
      "mileage - 42314\n",
      "[14000 49000 31739 ... 42777 35811 20129]\n",
      "\n",
      "fuelType - 5\n",
      "['Petrol' 'Diesel' 'Hybrid' 'Other' 'Electric']\n",
      "\n",
      "tax - 49\n",
      "[125. 150. 145.  20.  30.  nan   0. 165. 200. 140. 160. 205. 135. 115.\n",
      " 260. 555. 300. 235. 325. 240. 330. 305. 265. 185. 195. 565.  10. 570.\n",
      " 190. 580. 270. 540. 210. 290. 230. 155. 535. 120. 255. 315. 245. 280.\n",
      " 250. 220. 515. 110. 520. 130. 295.]\n",
      "\n",
      "mpg - 209\n",
      "[5.230e+01 4.710e+01 6.170e+01 6.280e+01 5.540e+01 6.420e+01 5.890e+01\n",
      " 5.770e+01 6.010e+01 3.360e+01 4.790e+01 5.430e+01 6.890e+01 4.280e+01\n",
      " 4.960e+01 5.330e+01 7.630e+01 4.350e+01 3.820e+01       nan 5.140e+01\n",
      " 3.620e+01 7.430e+01 7.850e+01 4.410e+01 5.040e+01 6.900e+01 6.570e+01\n",
      " 5.650e+01 7.240e+01 4.150e+01 6.730e+01 5.800e+01 4.030e+01 5.760e+01\n",
      " 2.110e+01 6.140e+01 4.090e+01 4.630e+01 4.560e+01 2.850e+01 3.280e+01\n",
      " 4.220e+01 3.770e+01 2.690e+01 3.490e+01 3.920e+01 7.800e+01 4.870e+01\n",
      " 3.980e+01 3.100e+01 8.310e+01 2.940e+01 3.580e+01 7.440e+01 7.060e+01\n",
      " 8.560e+01 4.480e+01 2.830e+01 3.320e+01 8.830e+01 3.720e+01 4.040e+01\n",
      " 5.440e+01 7.640e+01 3.040e+01 3.670e+01 3.170e+01 5.880e+01 7.860e+01\n",
      " 3.400e+01 5.500e+01 3.450e+01 2.480e+01 1.883e+02 8.600e+01 3.530e+01\n",
      " 3.010e+01 7.840e+01 4.708e+02 1.345e+02 4.770e+01 5.550e+01 5.660e+01\n",
      " 3.210e+01 1.569e+02 2.640e+01 3.870e+01 1.487e+02 6.700e+01 2.970e+01\n",
      " 3.250e+01 2.910e+01 2.440e+01 2.173e+02 6.560e+01 2.210e+01 8.070e+01\n",
      " 1.660e+02 3.370e+01 2.720e+01 3.140e+01 1.766e+02 9.410e+01 3.070e+01\n",
      " 2.350e+02 2.800e+01 2.410e+01 2.950e+01 1.413e+02 1.100e+01 2.880e+01\n",
      " 4.700e+01 4.450e+01 2.260e+01 5.000e+01 2.740e+01 2.550e+01 1.960e+01\n",
      " 1.177e+02 3.440e+01 6.600e+01 2.018e+02 2.030e+01 2.140e+01 2.390e+01\n",
      " 4.340e+01 2.770e+01 2.350e+01 2.160e+01 4.840e+01 4.240e+01 6.880e+01\n",
      " 4.600e+01 2.190e+01 2.080e+01 4.360e+01 3.000e+01 1.412e+02 2.370e+01\n",
      " 2.240e+01 2.568e+02 5.300e+01 2.090e+01 2.820e+01 2.280e+01 1.662e+02\n",
      " 2.670e+01 1.130e+02 2.460e+01 1.228e+02 2.300e+01 1.009e+02 2.800e+00\n",
      " 2.660e+01 4.300e+01 3.860e+01 2.220e+01 2.590e+01 4.200e+01 2.330e+01\n",
      " 3.760e+01 2.354e+02 1.284e+02 4.210e+01 3.290e+01 6.110e+01 2.520e+01\n",
      " 4.290e+01 5.110e+01 2.000e+01 5.420e+01 2.100e+01 1.355e+02 8.800e+00\n",
      " 4.800e+01 1.780e+01 3.710e+01 5.500e+00 2.540e+01 1.100e+00 1.930e+01\n",
      " 6.270e+01 4.460e+01 2.620e+01 2.630e+01 2.170e+01 1.900e+01 3.000e-01\n",
      " 4.000e+01 1.229e+02 2.500e+01 3.080e+01 2.230e+01 4.216e+01 5.130e+01\n",
      " 2.790e+01 6.770e+01 1.950e+01 3.810e+01 5.350e+01 2.320e+01 5.470e+01\n",
      " 2.050e+01 1.890e+01 1.980e+01 1.910e+01 6.000e+00 3.330e+01]\n",
      "\n",
      "engineSize - 42\n",
      "[1.  1.4 1.7 2.1 2.  3.  1.2 1.6 1.5 1.3 5.2 2.2 1.1 4.2 1.8 2.9 4.  2.3\n",
      " 0.  2.5 2.7 4.4 2.8 3.5 1.9 4.7 2.4 5.  5.5 6.2 3.2 0.6 6.  2.6 3.7 4.3\n",
      " 4.1 5.4 6.6 6.3 3.6 4.5]\n",
      "\n",
      "brand - 9\n",
      "['ford' 'vauxhall' 'hyundai' 'vw' 'mercedes' 'skoda' 'audi' 'bmw' 'toyota']\n",
      "\n"
     ]
    }
   ],
   "source": [
    "# unique values per column\n",
    "\n",
    "for column in all_data:\n",
    "    print(f'{column} - {len(all_data[column].unique())}')\n",
    "    print(all_data[column].unique())\n",
    "    print()"
   ]
  },
  {
   "cell_type": "code",
   "execution_count": 33,
   "metadata": {},
   "outputs": [
    {
     "data": {
      "text/plain": [
       "Index(['year', 'price', 'mileage', 'tax', 'mpg', 'engineSize'], dtype='object')"
      ]
     },
     "execution_count": 33,
     "metadata": {},
     "output_type": "execute_result"
    }
   ],
   "source": [
    "# numeric columns \n",
    "\n",
    "numeric_columns = all_data.select_dtypes(include=np.number).columns\n",
    "numeric_columns"
   ]
  },
  {
   "cell_type": "code",
   "execution_count": 96,
   "metadata": {},
   "outputs": [
    {
     "name": "stdout",
     "output_type": "stream",
     "text": [
      "Column: year\n",
      "Unique values: 29\n"
     ]
    },
    {
     "data": {
      "image/png": "[encoded data removed]",
      "text/plain": [
       "<Figure size 432x288 with 1 Axes>"
      ]
     },
     "metadata": {
      "needs_background": "light"
     },
     "output_type": "display_data"
    },
    {
     "name": "stdout",
     "output_type": "stream",
     "text": [
      "Column: price\n",
      "Unique values: 13299\n"
     ]
    },
    {
     "data": {
      "image/png": "[encoded data removed]",
      "text/plain": [
       "<Figure size 432x288 with 1 Axes>"
      ]
     },
     "metadata": {
      "needs_background": "light"
     },
     "output_type": "display_data"
    },
    {
     "name": "stdout",
     "output_type": "stream",
     "text": [
      "Column: mileage\n",
      "Unique values: 42314\n"
     ]
    },
    {
     "data": {
      "image/png": "[encoded data removed]",
      "text/plain": [
       "<Figure size 432x288 with 1 Axes>"
      ]
     },
     "metadata": {
      "needs_background": "light"
     },
     "output_type": "display_data"
    },
    {
     "name": "stdout",
     "output_type": "stream",
     "text": [
      "Column: tax\n",
      "Unique values: 49\n"
     ]
    },
    {
     "data": {
      "image/png": "[encoded data removed]",
      "text/plain": [
       "<Figure size 432x288 with 1 Axes>"
      ]
     },
     "metadata": {
      "needs_background": "light"
     },
     "output_type": "display_data"
    },
    {
     "name": "stdout",
     "output_type": "stream",
     "text": [
      "Column: mpg\n",
      "Unique values: 209\n"
     ]
    },
    {
     "data": {
      "image/png": "[encoded data removed]",
      "text/plain": [
       "<Figure size 432x288 with 1 Axes>"
      ]
     },
     "metadata": {
      "needs_background": "light"
     },
     "output_type": "display_data"
    },
    {
     "name": "stdout",
     "output_type": "stream",
     "text": [
      "Column: engineSize\n",
      "Unique values: 42\n"
     ]
    },
    {
     "data": {
      "image/png": "[encoded data removed]",
      "text/plain": [
       "<Figure size 432x288 with 1 Axes>"
      ]
     },
     "metadata": {
      "needs_background": "light"
     },
     "output_type": "display_data"
    }
   ],
   "source": [
    "for column in numeric_columns:\n",
    "    print(f'Column: {column}')\n",
    "    print(f'Unique values: {len(all_data[column].unique())}')\n",
    "    all_data[column].plot.hist(bins=10)\n",
    "    plt.show()"
   ]
  },
  {
   "cell_type": "code",
   "execution_count": 34,
   "metadata": {},
   "outputs": [
    {
     "data": {
      "text/plain": [
       "Index(['model', 'transmission', 'fuelType', 'brand'], dtype='object')"
      ]
     },
     "execution_count": 34,
     "metadata": {},
     "output_type": "execute_result"
    }
   ],
   "source": [
    "# non numeric columns\n",
    "\n",
    "non_numeric_columns = all_data.select_dtypes(exclude=np.number).columns\n",
    "non_numeric_columns"
   ]
  },
  {
   "cell_type": "code",
   "execution_count": 98,
   "metadata": {},
   "outputs": [
    {
     "name": "stdout",
     "output_type": "stream",
     "text": [
      "Column: model\n",
      "Unique values: 195\n"
     ]
    },
    {
     "data": {
      "image/png": "[encoded data removed]",
      "text/plain": [
       "<Figure size 432x288 with 1 Axes>"
      ]
     },
     "metadata": {
      "needs_background": "light"
     },
     "output_type": "display_data"
    },
    {
     "name": "stdout",
     "output_type": "stream",
     "text": [
      "Column: transmission\n",
      "Unique values: 4\n"
     ]
    },
    {
     "data": {
      "image/png": "[encoded data removed]",
      "text/plain": [
       "<Figure size 432x288 with 1 Axes>"
      ]
     },
     "metadata": {
      "needs_background": "light"
     },
     "output_type": "display_data"
    },
    {
     "name": "stdout",
     "output_type": "stream",
     "text": [
      "Column: fuelType\n",
      "Unique values: 5\n"
     ]
    },
    {
     "data": {
      "image/png": "[encoded data removed]",
      "text/plain": [
       "<Figure size 432x288 with 1 Axes>"
      ]
     },
     "metadata": {
      "needs_background": "light"
     },
     "output_type": "display_data"
    },
    {
     "name": "stdout",
     "output_type": "stream",
     "text": [
      "Column: brand\n",
      "Unique values: 9\n"
     ]
    },
    {
     "data": {
      "image/png": "[encoded data removed]",
      "text/plain": [
       "<Figure size 432x288 with 1 Axes>"
      ]
     },
     "metadata": {
      "needs_background": "light"
     },
     "output_type": "display_data"
    }
   ],
   "source": [
    "for column in non_numeric_columns:\n",
    "    print(f'Column: {column}')\n",
    "    print(f'Unique values: {len(all_data[column].unique())}')\n",
    "    all_data[column].value_counts().plot.bar()\n",
    "    plt.show()"
   ]
  },
  {
   "cell_type": "code",
   "execution_count": 99,
   "metadata": {},
   "outputs": [
    {
     "data": {
      "text/html": [
       "<div>\n",
       "<style scoped>\n",
       "    .dataframe tbody tr th:only-of-type {\n",
       "        vertical-align: middle;\n",
       "    }\n",
       "\n",
       "    .dataframe tbody tr th {\n",
       "        vertical-align: top;\n",
       "    }\n",
       "\n",
       "    .dataframe thead th {\n",
       "        text-align: right;\n",
       "    }\n",
       "</style>\n",
       "<table border=\"1\" class=\"dataframe\">\n",
       "  <thead>\n",
       "    <tr style=\"text-align: right;\">\n",
       "      <th></th>\n",
       "      <th>year</th>\n",
       "      <th>price</th>\n",
       "      <th>mileage</th>\n",
       "      <th>tax</th>\n",
       "      <th>mpg</th>\n",
       "      <th>engineSize</th>\n",
       "    </tr>\n",
       "  </thead>\n",
       "  <tbody>\n",
       "    <tr>\n",
       "      <th>count</th>\n",
       "      <td>108540.000000</td>\n",
       "      <td>108540.000000</td>\n",
       "      <td>108540.000000</td>\n",
       "      <td>99187.000000</td>\n",
       "      <td>99187.000000</td>\n",
       "      <td>108540.000000</td>\n",
       "    </tr>\n",
       "    <tr>\n",
       "      <th>mean</th>\n",
       "      <td>2017.098028</td>\n",
       "      <td>16890.124046</td>\n",
       "      <td>23025.928469</td>\n",
       "      <td>120.299838</td>\n",
       "      <td>55.166825</td>\n",
       "      <td>1.661644</td>\n",
       "    </tr>\n",
       "    <tr>\n",
       "      <th>std</th>\n",
       "      <td>2.130057</td>\n",
       "      <td>9756.266820</td>\n",
       "      <td>21176.423684</td>\n",
       "      <td>63.150926</td>\n",
       "      <td>16.138522</td>\n",
       "      <td>0.557058</td>\n",
       "    </tr>\n",
       "    <tr>\n",
       "      <th>min</th>\n",
       "      <td>1970.000000</td>\n",
       "      <td>450.000000</td>\n",
       "      <td>1.000000</td>\n",
       "      <td>0.000000</td>\n",
       "      <td>0.300000</td>\n",
       "      <td>0.000000</td>\n",
       "    </tr>\n",
       "    <tr>\n",
       "      <th>25%</th>\n",
       "      <td>2016.000000</td>\n",
       "      <td>10229.500000</td>\n",
       "      <td>7491.750000</td>\n",
       "      <td>125.000000</td>\n",
       "      <td>47.100000</td>\n",
       "      <td>1.200000</td>\n",
       "    </tr>\n",
       "    <tr>\n",
       "      <th>50%</th>\n",
       "      <td>2017.000000</td>\n",
       "      <td>14698.000000</td>\n",
       "      <td>17265.000000</td>\n",
       "      <td>145.000000</td>\n",
       "      <td>54.300000</td>\n",
       "      <td>1.600000</td>\n",
       "    </tr>\n",
       "    <tr>\n",
       "      <th>75%</th>\n",
       "      <td>2019.000000</td>\n",
       "      <td>20940.000000</td>\n",
       "      <td>32236.000000</td>\n",
       "      <td>145.000000</td>\n",
       "      <td>62.800000</td>\n",
       "      <td>2.000000</td>\n",
       "    </tr>\n",
       "    <tr>\n",
       "      <th>max</th>\n",
       "      <td>2060.000000</td>\n",
       "      <td>159999.000000</td>\n",
       "      <td>323000.000000</td>\n",
       "      <td>580.000000</td>\n",
       "      <td>470.800000</td>\n",
       "      <td>6.600000</td>\n",
       "    </tr>\n",
       "  </tbody>\n",
       "</table>\n",
       "</div>"
      ],
      "text/plain": [
       "                year          price        mileage           tax  \\\n",
       "count  108540.000000  108540.000000  108540.000000  99187.000000   \n",
       "mean     2017.098028   16890.124046   23025.928469    120.299838   \n",
       "std         2.130057    9756.266820   21176.423684     63.150926   \n",
       "min      1970.000000     450.000000       1.000000      0.000000   \n",
       "25%      2016.000000   10229.500000    7491.750000    125.000000   \n",
       "50%      2017.000000   14698.000000   17265.000000    145.000000   \n",
       "75%      2019.000000   20940.000000   32236.000000    145.000000   \n",
       "max      2060.000000  159999.000000  323000.000000    580.000000   \n",
       "\n",
       "                mpg     engineSize  \n",
       "count  99187.000000  108540.000000  \n",
       "mean      55.166825       1.661644  \n",
       "std       16.138522       0.557058  \n",
       "min        0.300000       0.000000  \n",
       "25%       47.100000       1.200000  \n",
       "50%       54.300000       1.600000  \n",
       "75%       62.800000       2.000000  \n",
       "max      470.800000       6.600000  "
      ]
     },
     "execution_count": 99,
     "metadata": {},
     "output_type": "execute_result"
    }
   ],
   "source": [
    "# showing basic statistics it is strange that enginesize min value=0 and year is 2060\n",
    "\n",
    "all_data.describe()"
   ]
  },
  {
   "cell_type": "code",
   "execution_count": 156,
   "metadata": {},
   "outputs": [
    {
     "data": {
      "text/html": [
       "<div>\n",
       "<style scoped>\n",
       "    .dataframe tbody tr th:only-of-type {\n",
       "        vertical-align: middle;\n",
       "    }\n",
       "\n",
       "    .dataframe tbody tr th {\n",
       "        vertical-align: top;\n",
       "    }\n",
       "\n",
       "    .dataframe thead th {\n",
       "        text-align: right;\n",
       "    }\n",
       "</style>\n",
       "<table border=\"1\" class=\"dataframe\">\n",
       "  <thead>\n",
       "    <tr style=\"text-align: right;\">\n",
       "      <th></th>\n",
       "      <th>model</th>\n",
       "      <th>year</th>\n",
       "      <th>price</th>\n",
       "      <th>transmission</th>\n",
       "      <th>mileage</th>\n",
       "      <th>fuelType</th>\n",
       "      <th>tax</th>\n",
       "      <th>mpg</th>\n",
       "      <th>engineSize</th>\n",
       "      <th>brand</th>\n",
       "    </tr>\n",
       "  </thead>\n",
       "  <tbody>\n",
       "    <tr>\n",
       "      <th>49</th>\n",
       "      <td>Tucson</td>\n",
       "      <td>2016</td>\n",
       "      <td>11300</td>\n",
       "      <td>Manual</td>\n",
       "      <td>37993</td>\n",
       "      <td>Diesel</td>\n",
       "      <td>30.0</td>\n",
       "      <td>61.7</td>\n",
       "      <td>0.0</td>\n",
       "      <td>hyundai</td>\n",
       "    </tr>\n",
       "    <tr>\n",
       "      <th>540</th>\n",
       "      <td>A Class</td>\n",
       "      <td>2018</td>\n",
       "      <td>18000</td>\n",
       "      <td>Automatic</td>\n",
       "      <td>18347</td>\n",
       "      <td>Diesel</td>\n",
       "      <td>150.0</td>\n",
       "      <td>65.7</td>\n",
       "      <td>0.0</td>\n",
       "      <td>mercedes</td>\n",
       "    </tr>\n",
       "    <tr>\n",
       "      <th>1289</th>\n",
       "      <td>i3</td>\n",
       "      <td>2017</td>\n",
       "      <td>18995</td>\n",
       "      <td>Automatic</td>\n",
       "      <td>33021</td>\n",
       "      <td>Hybrid</td>\n",
       "      <td>0.0</td>\n",
       "      <td>470.8</td>\n",
       "      <td>0.0</td>\n",
       "      <td>bmw</td>\n",
       "    </tr>\n",
       "    <tr>\n",
       "      <th>1391</th>\n",
       "      <td>Fiesta</td>\n",
       "      <td>2018</td>\n",
       "      <td>12999</td>\n",
       "      <td>Manual</td>\n",
       "      <td>15000</td>\n",
       "      <td>Petrol</td>\n",
       "      <td>150.0</td>\n",
       "      <td>58.9</td>\n",
       "      <td>0.0</td>\n",
       "      <td>ford</td>\n",
       "    </tr>\n",
       "    <tr>\n",
       "      <th>1797</th>\n",
       "      <td>Fiesta</td>\n",
       "      <td>2017</td>\n",
       "      <td>9275</td>\n",
       "      <td>Automatic</td>\n",
       "      <td>34000</td>\n",
       "      <td>Petrol</td>\n",
       "      <td>0.0</td>\n",
       "      <td>57.7</td>\n",
       "      <td>0.0</td>\n",
       "      <td>ford</td>\n",
       "    </tr>\n",
       "    <tr>\n",
       "      <th>...</th>\n",
       "      <td>...</td>\n",
       "      <td>...</td>\n",
       "      <td>...</td>\n",
       "      <td>...</td>\n",
       "      <td>...</td>\n",
       "      <td>...</td>\n",
       "      <td>...</td>\n",
       "      <td>...</td>\n",
       "      <td>...</td>\n",
       "      <td>...</td>\n",
       "    </tr>\n",
       "    <tr>\n",
       "      <th>107056</th>\n",
       "      <td>Focus</td>\n",
       "      <td>2019</td>\n",
       "      <td>19999</td>\n",
       "      <td>Manual</td>\n",
       "      <td>3000</td>\n",
       "      <td>Petrol</td>\n",
       "      <td>NaN</td>\n",
       "      <td>NaN</td>\n",
       "      <td>0.0</td>\n",
       "      <td>ford</td>\n",
       "    </tr>\n",
       "    <tr>\n",
       "      <th>107513</th>\n",
       "      <td>Passat</td>\n",
       "      <td>2018</td>\n",
       "      <td>19500</td>\n",
       "      <td>Automatic</td>\n",
       "      <td>22283</td>\n",
       "      <td>Petrol</td>\n",
       "      <td>145.0</td>\n",
       "      <td>48.7</td>\n",
       "      <td>0.0</td>\n",
       "      <td>vw</td>\n",
       "    </tr>\n",
       "    <tr>\n",
       "      <th>107902</th>\n",
       "      <td>M Class</td>\n",
       "      <td>1970</td>\n",
       "      <td>24999</td>\n",
       "      <td>Automatic</td>\n",
       "      <td>14000</td>\n",
       "      <td>Diesel</td>\n",
       "      <td>305.0</td>\n",
       "      <td>39.2</td>\n",
       "      <td>0.0</td>\n",
       "      <td>mercedes</td>\n",
       "    </tr>\n",
       "    <tr>\n",
       "      <th>107955</th>\n",
       "      <td>I10</td>\n",
       "      <td>2016</td>\n",
       "      <td>6300</td>\n",
       "      <td>Manual</td>\n",
       "      <td>17272</td>\n",
       "      <td>Petrol</td>\n",
       "      <td>20.0</td>\n",
       "      <td>61.4</td>\n",
       "      <td>0.0</td>\n",
       "      <td>hyundai</td>\n",
       "    </tr>\n",
       "    <tr>\n",
       "      <th>108278</th>\n",
       "      <td>Corsa</td>\n",
       "      <td>2015</td>\n",
       "      <td>7500</td>\n",
       "      <td>Manual</td>\n",
       "      <td>24846</td>\n",
       "      <td>Petrol</td>\n",
       "      <td>125.0</td>\n",
       "      <td>53.3</td>\n",
       "      <td>0.0</td>\n",
       "      <td>vauxhall</td>\n",
       "    </tr>\n",
       "  </tbody>\n",
       "</table>\n",
       "<p>286 rows × 10 columns</p>\n",
       "</div>"
      ],
      "text/plain": [
       "           model  year  price transmission  mileage fuelType    tax    mpg  \\\n",
       "49        Tucson  2016  11300       Manual    37993   Diesel   30.0   61.7   \n",
       "540      A Class  2018  18000    Automatic    18347   Diesel  150.0   65.7   \n",
       "1289          i3  2017  18995    Automatic    33021   Hybrid    0.0  470.8   \n",
       "1391      Fiesta  2018  12999       Manual    15000   Petrol  150.0   58.9   \n",
       "1797      Fiesta  2017   9275    Automatic    34000   Petrol    0.0   57.7   \n",
       "...          ...   ...    ...          ...      ...      ...    ...    ...   \n",
       "107056     Focus  2019  19999       Manual     3000   Petrol    NaN    NaN   \n",
       "107513    Passat  2018  19500    Automatic    22283   Petrol  145.0   48.7   \n",
       "107902   M Class  1970  24999    Automatic    14000   Diesel  305.0   39.2   \n",
       "107955       I10  2016   6300       Manual    17272   Petrol   20.0   61.4   \n",
       "108278     Corsa  2015   7500       Manual    24846   Petrol  125.0   53.3   \n",
       "\n",
       "        engineSize     brand  \n",
       "49             0.0   hyundai  \n",
       "540            0.0  mercedes  \n",
       "1289           0.0       bmw  \n",
       "1391           0.0      ford  \n",
       "1797           0.0      ford  \n",
       "...            ...       ...  \n",
       "107056         0.0      ford  \n",
       "107513         0.0        vw  \n",
       "107902         0.0  mercedes  \n",
       "107955         0.0   hyundai  \n",
       "108278         0.0  vauxhall  \n",
       "\n",
       "[286 rows x 10 columns]"
      ]
     },
     "execution_count": 156,
     "metadata": {},
     "output_type": "execute_result"
    }
   ],
   "source": [
    "# let's check enginesize\n",
    "\n",
    "all_data[all_data['engineSize']==0.0]"
   ]
  },
  {
   "cell_type": "code",
   "execution_count": 157,
   "metadata": {},
   "outputs": [
    {
     "data": {
      "text/plain": [
       "0.95    2019.0\n",
       "0.99    2020.0\n",
       "1.00    2060.0\n",
       "Name: year, dtype: float64"
      ]
     },
     "execution_count": 157,
     "metadata": {},
     "output_type": "execute_result"
    }
   ],
   "source": [
    "# let's check year\n",
    "\n",
    "all_data['year'].quantile([0.95,0.99, 1])"
   ]
  },
  {
   "cell_type": "code",
   "execution_count": 158,
   "metadata": {},
   "outputs": [
    {
     "data": {
      "text/html": [
       "<div>\n",
       "<style scoped>\n",
       "    .dataframe tbody tr th:only-of-type {\n",
       "        vertical-align: middle;\n",
       "    }\n",
       "\n",
       "    .dataframe tbody tr th {\n",
       "        vertical-align: top;\n",
       "    }\n",
       "\n",
       "    .dataframe thead th {\n",
       "        text-align: right;\n",
       "    }\n",
       "</style>\n",
       "<table border=\"1\" class=\"dataframe\">\n",
       "  <thead>\n",
       "    <tr style=\"text-align: right;\">\n",
       "      <th></th>\n",
       "      <th>model</th>\n",
       "      <th>year</th>\n",
       "      <th>price</th>\n",
       "      <th>transmission</th>\n",
       "      <th>mileage</th>\n",
       "      <th>fuelType</th>\n",
       "      <th>tax</th>\n",
       "      <th>mpg</th>\n",
       "      <th>engineSize</th>\n",
       "      <th>brand</th>\n",
       "    </tr>\n",
       "  </thead>\n",
       "  <tbody>\n",
       "    <tr>\n",
       "      <th>64464</th>\n",
       "      <td>Fiesta</td>\n",
       "      <td>2060</td>\n",
       "      <td>6495</td>\n",
       "      <td>Automatic</td>\n",
       "      <td>54807</td>\n",
       "      <td>Petrol</td>\n",
       "      <td>205.0</td>\n",
       "      <td>42.8</td>\n",
       "      <td>1.4</td>\n",
       "      <td>ford</td>\n",
       "    </tr>\n",
       "  </tbody>\n",
       "</table>\n",
       "</div>"
      ],
      "text/plain": [
       "         model  year  price transmission  mileage fuelType    tax   mpg  \\\n",
       "64464   Fiesta  2060   6495    Automatic    54807   Petrol  205.0  42.8   \n",
       "\n",
       "       engineSize brand  \n",
       "64464         1.4  ford  "
      ]
     },
     "execution_count": 158,
     "metadata": {},
     "output_type": "execute_result"
    }
   ],
   "source": [
    "# one row\n",
    "\n",
    "all_data[all_data['year']==2060.0]"
   ]
  },
  {
   "cell_type": "code",
   "execution_count": 109,
   "metadata": {},
   "outputs": [
    {
     "data": {
      "image/png": "[encoded data removed]",
      "text/plain": [
       "<Figure size 576x288 with 1 Axes>"
      ]
     },
     "metadata": {
      "needs_background": "light"
     },
     "output_type": "display_data"
    },
    {
     "data": {
      "image/png": "[encoded data removed]",
      "text/plain": [
       "<Figure size 576x288 with 1 Axes>"
      ]
     },
     "metadata": {
      "needs_background": "light"
     },
     "output_type": "display_data"
    },
    {
     "data": {
      "image/png": "[encoded data removed]",
      "text/plain": [
       "<Figure size 576x288 with 1 Axes>"
      ]
     },
     "metadata": {
      "needs_background": "light"
     },
     "output_type": "display_data"
    }
   ],
   "source": [
    "# plotting the relations between non numeric features and price\n",
    "\n",
    "for column in non_numeric_columns[1:]:\n",
    "    fig = plt.figure(figsize = (8,4))\n",
    "    sns.barplot(x = all_data['price'], y = all_data[column], data = all_data, palette='rainbow')\n",
    "    plt.xticks(fontsize=12)\n",
    "    plt.yticks(fontsize=12)\n",
    "    plt.show()\n",
    "\n",
    "\n"
   ]
  },
  {
   "cell_type": "code",
   "execution_count": 110,
   "metadata": {},
   "outputs": [
    {
     "data": {
      "image/png": "[encoded data removed]",
      "text/plain": [
       "<Figure size 1152x1152 with 2 Axes>"
      ]
     },
     "metadata": {
      "needs_background": "light"
     },
     "output_type": "display_data"
    }
   ],
   "source": [
    "# plotting correlation beetwen features using Spearman method \n",
    "\n",
    "plt.figure(figsize=(16, 16))\n",
    "ax = sns.heatmap(all_data.corr(method='spearman'), \n",
    "                 xticklabels=all_data.corr().columns, \n",
    "                 yticklabels=all_data.corr().columns, \n",
    "                 cmap='RdYlGn', \n",
    "                 center=0, \n",
    "                 annot=True)\n",
    "\n",
    "plt.title('Correlation map', fontsize=22)\n",
    "bottom, top = ax.get_ylim()\n",
    "ax.set_ylim(bottom + 0.5, top - 0.5)\n",
    "plt.xticks(fontsize=12)\n",
    "plt.yticks(fontsize=12)\n",
    "plt.show()"
   ]
  },
  {
   "cell_type": "markdown",
   "metadata": {},
   "source": [
    "Conclusions\n",
    "\n",
    "We have missing values tax 9353, mpg 9353, tax nan change for 0.0, mpg nan for median\n",
    "We have 286 rows where enginesize is 0? - we will delete it \n",
    "we have 1 row where year is 2060 - we will delete it\n",
    "\n",
    "Year - we will create new column age instead\n",
    "\n",
    "\n",
    "\n"
   ]
  },
  {
   "cell_type": "code",
   "execution_count": 35,
   "metadata": {},
   "outputs": [],
   "source": [
    "# filter data, to save onlyrows where year is not 2060\n",
    "\n",
    "all_data = all_data[all_data.year!= 2060]"
   ]
  },
  {
   "cell_type": "code",
   "execution_count": 36,
   "metadata": {},
   "outputs": [
    {
     "data": {
      "text/plain": [
       "2020"
      ]
     },
     "execution_count": 36,
     "metadata": {},
     "output_type": "execute_result"
    }
   ],
   "source": [
    "# let's check\n",
    "\n",
    "np.max(all_data.year)"
   ]
  },
  {
   "cell_type": "code",
   "execution_count": 37,
   "metadata": {},
   "outputs": [],
   "source": [
    "# add new column age and delete column year\n",
    "\n",
    "all_data['age'] = 2021.0-all_data['year']"
   ]
  },
  {
   "cell_type": "code",
   "execution_count": 18,
   "metadata": {},
   "outputs": [],
   "source": [
    "all_data.drop('year', axis=1, inplace=True)"
   ]
  },
  {
   "cell_type": "code",
   "execution_count": 38,
   "metadata": {},
   "outputs": [],
   "source": [
    "# deleting rows with enginesize is 0\n",
    "\n",
    "all_data = all_data[all_data['engineSize']!=0.0]"
   ]
  },
  {
   "cell_type": "code",
   "execution_count": 40,
   "metadata": {},
   "outputs": [],
   "source": [
    "# let's check \n",
    "\n",
    "\n",
    "all_data.reset_index(drop=True, inplace=True)\n"
   ]
  },
  {
   "cell_type": "code",
   "execution_count": 41,
   "metadata": {},
   "outputs": [
    {
     "data": {
      "text/html": [
       "<div>\n",
       "<style scoped>\n",
       "    .dataframe tbody tr th:only-of-type {\n",
       "        vertical-align: middle;\n",
       "    }\n",
       "\n",
       "    .dataframe tbody tr th {\n",
       "        vertical-align: top;\n",
       "    }\n",
       "\n",
       "    .dataframe thead th {\n",
       "        text-align: right;\n",
       "    }\n",
       "</style>\n",
       "<table border=\"1\" class=\"dataframe\">\n",
       "  <thead>\n",
       "    <tr style=\"text-align: right;\">\n",
       "      <th></th>\n",
       "      <th>model</th>\n",
       "      <th>year</th>\n",
       "      <th>price</th>\n",
       "      <th>transmission</th>\n",
       "      <th>mileage</th>\n",
       "      <th>fuelType</th>\n",
       "      <th>tax</th>\n",
       "      <th>mpg</th>\n",
       "      <th>engineSize</th>\n",
       "      <th>brand</th>\n",
       "      <th>age</th>\n",
       "    </tr>\n",
       "  </thead>\n",
       "  <tbody>\n",
       "    <tr>\n",
       "      <th>0</th>\n",
       "      <td>Fiesta</td>\n",
       "      <td>2019</td>\n",
       "      <td>14550</td>\n",
       "      <td>Manual</td>\n",
       "      <td>10071</td>\n",
       "      <td>Petrol</td>\n",
       "      <td>145.0</td>\n",
       "      <td>60.1</td>\n",
       "      <td>1.0</td>\n",
       "      <td>ford</td>\n",
       "      <td>2.0</td>\n",
       "    </tr>\n",
       "    <tr>\n",
       "      <th>1</th>\n",
       "      <td>Focus</td>\n",
       "      <td>2017</td>\n",
       "      <td>14000</td>\n",
       "      <td>Automatic</td>\n",
       "      <td>9137</td>\n",
       "      <td>Petrol</td>\n",
       "      <td>NaN</td>\n",
       "      <td>NaN</td>\n",
       "      <td>1.0</td>\n",
       "      <td>ford</td>\n",
       "      <td>4.0</td>\n",
       "    </tr>\n",
       "    <tr>\n",
       "      <th>2</th>\n",
       "      <td>A Class</td>\n",
       "      <td>2020</td>\n",
       "      <td>24889</td>\n",
       "      <td>Semi-Auto</td>\n",
       "      <td>1000</td>\n",
       "      <td>Diesel</td>\n",
       "      <td>145.0</td>\n",
       "      <td>62.8</td>\n",
       "      <td>1.5</td>\n",
       "      <td>mercedes</td>\n",
       "      <td>1.0</td>\n",
       "    </tr>\n",
       "    <tr>\n",
       "      <th>3</th>\n",
       "      <td>Golf</td>\n",
       "      <td>2020</td>\n",
       "      <td>20605</td>\n",
       "      <td>Manual</td>\n",
       "      <td>1910</td>\n",
       "      <td>Diesel</td>\n",
       "      <td>145.0</td>\n",
       "      <td>57.7</td>\n",
       "      <td>1.6</td>\n",
       "      <td>vw</td>\n",
       "      <td>1.0</td>\n",
       "    </tr>\n",
       "    <tr>\n",
       "      <th>4</th>\n",
       "      <td>Tucson</td>\n",
       "      <td>2017</td>\n",
       "      <td>13995</td>\n",
       "      <td>Manual</td>\n",
       "      <td>27237</td>\n",
       "      <td>Diesel</td>\n",
       "      <td>30.0</td>\n",
       "      <td>61.7</td>\n",
       "      <td>1.7</td>\n",
       "      <td>hyundai</td>\n",
       "      <td>4.0</td>\n",
       "    </tr>\n",
       "    <tr>\n",
       "      <th>...</th>\n",
       "      <td>...</td>\n",
       "      <td>...</td>\n",
       "      <td>...</td>\n",
       "      <td>...</td>\n",
       "      <td>...</td>\n",
       "      <td>...</td>\n",
       "      <td>...</td>\n",
       "      <td>...</td>\n",
       "      <td>...</td>\n",
       "      <td>...</td>\n",
       "      <td>...</td>\n",
       "    </tr>\n",
       "    <tr>\n",
       "      <th>108248</th>\n",
       "      <td>Insignia</td>\n",
       "      <td>2015</td>\n",
       "      <td>8495</td>\n",
       "      <td>Automatic</td>\n",
       "      <td>57000</td>\n",
       "      <td>Diesel</td>\n",
       "      <td>145.0</td>\n",
       "      <td>53.3</td>\n",
       "      <td>2.0</td>\n",
       "      <td>vauxhall</td>\n",
       "      <td>6.0</td>\n",
       "    </tr>\n",
       "    <tr>\n",
       "      <th>108249</th>\n",
       "      <td>Focus</td>\n",
       "      <td>2018</td>\n",
       "      <td>12400</td>\n",
       "      <td>Manual</td>\n",
       "      <td>21264</td>\n",
       "      <td>Petrol</td>\n",
       "      <td>NaN</td>\n",
       "      <td>NaN</td>\n",
       "      <td>1.0</td>\n",
       "      <td>ford</td>\n",
       "      <td>3.0</td>\n",
       "    </tr>\n",
       "    <tr>\n",
       "      <th>108250</th>\n",
       "      <td>5 Series</td>\n",
       "      <td>2017</td>\n",
       "      <td>20998</td>\n",
       "      <td>Semi-Auto</td>\n",
       "      <td>21068</td>\n",
       "      <td>Diesel</td>\n",
       "      <td>145.0</td>\n",
       "      <td>62.8</td>\n",
       "      <td>2.0</td>\n",
       "      <td>bmw</td>\n",
       "      <td>4.0</td>\n",
       "    </tr>\n",
       "    <tr>\n",
       "      <th>108251</th>\n",
       "      <td>Insignia</td>\n",
       "      <td>2016</td>\n",
       "      <td>11500</td>\n",
       "      <td>Manual</td>\n",
       "      <td>17052</td>\n",
       "      <td>Diesel</td>\n",
       "      <td>30.0</td>\n",
       "      <td>65.7</td>\n",
       "      <td>1.6</td>\n",
       "      <td>vauxhall</td>\n",
       "      <td>5.0</td>\n",
       "    </tr>\n",
       "    <tr>\n",
       "      <th>108252</th>\n",
       "      <td>I10</td>\n",
       "      <td>2019</td>\n",
       "      <td>10269</td>\n",
       "      <td>Manual</td>\n",
       "      <td>10</td>\n",
       "      <td>Petrol</td>\n",
       "      <td>145.0</td>\n",
       "      <td>60.1</td>\n",
       "      <td>1.0</td>\n",
       "      <td>hyundai</td>\n",
       "      <td>2.0</td>\n",
       "    </tr>\n",
       "  </tbody>\n",
       "</table>\n",
       "<p>108253 rows × 11 columns</p>\n",
       "</div>"
      ],
      "text/plain": [
       "            model  year  price transmission  mileage fuelType    tax   mpg  \\\n",
       "0          Fiesta  2019  14550       Manual    10071   Petrol  145.0  60.1   \n",
       "1           Focus  2017  14000    Automatic     9137   Petrol    NaN   NaN   \n",
       "2         A Class  2020  24889    Semi-Auto     1000   Diesel  145.0  62.8   \n",
       "3            Golf  2020  20605       Manual     1910   Diesel  145.0  57.7   \n",
       "4          Tucson  2017  13995       Manual    27237   Diesel   30.0  61.7   \n",
       "...           ...   ...    ...          ...      ...      ...    ...   ...   \n",
       "108248   Insignia  2015   8495    Automatic    57000   Diesel  145.0  53.3   \n",
       "108249      Focus  2018  12400       Manual    21264   Petrol    NaN   NaN   \n",
       "108250   5 Series  2017  20998    Semi-Auto    21068   Diesel  145.0  62.8   \n",
       "108251   Insignia  2016  11500       Manual    17052   Diesel   30.0  65.7   \n",
       "108252        I10  2019  10269       Manual       10   Petrol  145.0  60.1   \n",
       "\n",
       "        engineSize     brand  age  \n",
       "0              1.0      ford  2.0  \n",
       "1              1.0      ford  4.0  \n",
       "2              1.5  mercedes  1.0  \n",
       "3              1.6        vw  1.0  \n",
       "4              1.7   hyundai  4.0  \n",
       "...            ...       ...  ...  \n",
       "108248         2.0  vauxhall  6.0  \n",
       "108249         1.0      ford  3.0  \n",
       "108250         2.0       bmw  4.0  \n",
       "108251         1.6  vauxhall  5.0  \n",
       "108252         1.0   hyundai  2.0  \n",
       "\n",
       "[108253 rows x 11 columns]"
      ]
     },
     "execution_count": 41,
     "metadata": {},
     "output_type": "execute_result"
    }
   ],
   "source": [
    "all_data"
   ]
  },
  {
   "cell_type": "code",
   "execution_count": 42,
   "metadata": {},
   "outputs": [],
   "source": [
    "# fill NaN in tax column NaN->0\n",
    "\n",
    "all_data.tax=all_data.tax.fillna(0.0)"
   ]
  },
  {
   "cell_type": "code",
   "execution_count": 43,
   "metadata": {},
   "outputs": [],
   "source": [
    "# fill Nan in mpg column  NaN-> median\n",
    "\n",
    "all_data.mpg = all_data.mpg.fillna(np.nanmedian(all_data.mpg))"
   ]
  },
  {
   "cell_type": "code",
   "execution_count": 44,
   "metadata": {},
   "outputs": [
    {
     "data": {
      "text/plain": [
       "model           0\n",
       "year            0\n",
       "price           0\n",
       "transmission    0\n",
       "mileage         0\n",
       "fuelType        0\n",
       "tax             0\n",
       "mpg             0\n",
       "engineSize      0\n",
       "brand           0\n",
       "age             0\n",
       "dtype: int64"
      ]
     },
     "execution_count": 44,
     "metadata": {},
     "output_type": "execute_result"
    }
   ],
   "source": [
    "# let's check now\n",
    "\n",
    "all_data.isna().sum()"
   ]
  },
  {
   "cell_type": "code",
   "execution_count": null,
   "metadata": {},
   "outputs": [],
   "source": [
    "# seperate the dataset : response variable (y) and feature variabes (X)\n",
    "\n",
    "X = all_data.drop('price', axis = 1)\n",
    "y = all_data['price']"
   ]
  },
  {
   "cell_type": "code",
   "execution_count": 55,
   "metadata": {},
   "outputs": [],
   "source": [
    "# let's transmission , fuelType, brand, model in categoricals values\n",
    "\n",
    "def map_fuelType(fuel):\n",
    "    d = {'Petrol': 1, \n",
    "        'Diesel': 2, \n",
    "        'Hybrid': 3, \n",
    "        'Electric': 3, \n",
    "        'Other': 3}\n",
    "    return d[fuel]\n",
    "    \n",
    "all_data['fuelType_main'] = all_data['fuelType'].apply(lambda x: map_fuelType(x))\n",
    "\n"
   ]
  },
  {
   "cell_type": "code",
   "execution_count": 64,
   "metadata": {},
   "outputs": [],
   "source": [
    "def map_transmission(trans):\n",
    "    d = {'Manual': 1, \n",
    "        'Automatic': 2, \n",
    "        'Semi-Auto': 3, \n",
    "        'Other': 4}\n",
    "    return d[trans]\n",
    "    \n",
    "all_data['transmission_main'] = all_data['transmission'].apply(lambda x: map_transmission(x))"
   ]
  },
  {
   "cell_type": "code",
   "execution_count": 68,
   "metadata": {},
   "outputs": [],
   "source": [
    "def map_brand(brand):\n",
    "    d = {'mercedes': 1, \n",
    "        'audi': 2, \n",
    "        'bmw': 3,\n",
    "        'ford': 4,\n",
    "        'vw': 5,\n",
    "        'vauxhall': 6,\n",
    "        'toyota': 7,\n",
    "        'skoda': 8,\n",
    "        'hyundai': 9}\n",
    "    return d[brand]\n",
    "    \n",
    "all_data['brand_main'] = all_data['brand'].apply(lambda x: map_brand(x))"
   ]
  },
  {
   "cell_type": "code",
   "execution_count": 72,
   "metadata": {},
   "outputs": [],
   "source": [
    "# drop brand, transmission, fuelType\n",
    "\n",
    "\n",
    "\n",
    "all_data.drop(['brand','transmission','fuelType','year'],axis=1, inplace=True)"
   ]
  },
  {
   "cell_type": "code",
   "execution_count": 76,
   "metadata": {},
   "outputs": [
    {
     "data": {
      "text/html": [
       "<div>\n",
       "<style scoped>\n",
       "    .dataframe tbody tr th:only-of-type {\n",
       "        vertical-align: middle;\n",
       "    }\n",
       "\n",
       "    .dataframe tbody tr th {\n",
       "        vertical-align: top;\n",
       "    }\n",
       "\n",
       "    .dataframe thead th {\n",
       "        text-align: right;\n",
       "    }\n",
       "</style>\n",
       "<table border=\"1\" class=\"dataframe\">\n",
       "  <thead>\n",
       "    <tr style=\"text-align: right;\">\n",
       "      <th></th>\n",
       "      <th>price</th>\n",
       "      <th>mileage</th>\n",
       "      <th>tax</th>\n",
       "      <th>mpg</th>\n",
       "      <th>engineSize</th>\n",
       "      <th>age</th>\n",
       "      <th>fuelType_main</th>\n",
       "      <th>transmission_main</th>\n",
       "      <th>brand_main</th>\n",
       "      <th>model_ 1 Series</th>\n",
       "      <th>...</th>\n",
       "      <th>model_ Yeti Outdoor</th>\n",
       "      <th>model_ Z3</th>\n",
       "      <th>model_ Z4</th>\n",
       "      <th>model_ Zafira</th>\n",
       "      <th>model_ Zafira Tourer</th>\n",
       "      <th>model_ i3</th>\n",
       "      <th>model_ i8</th>\n",
       "      <th>model_180</th>\n",
       "      <th>model_200</th>\n",
       "      <th>model_220</th>\n",
       "    </tr>\n",
       "  </thead>\n",
       "  <tbody>\n",
       "    <tr>\n",
       "      <th>0</th>\n",
       "      <td>14550</td>\n",
       "      <td>10071</td>\n",
       "      <td>145.0</td>\n",
       "      <td>60.1</td>\n",
       "      <td>1.0</td>\n",
       "      <td>2.0</td>\n",
       "      <td>1</td>\n",
       "      <td>1</td>\n",
       "      <td>4</td>\n",
       "      <td>0</td>\n",
       "      <td>...</td>\n",
       "      <td>0</td>\n",
       "      <td>0</td>\n",
       "      <td>0</td>\n",
       "      <td>0</td>\n",
       "      <td>0</td>\n",
       "      <td>0</td>\n",
       "      <td>0</td>\n",
       "      <td>0</td>\n",
       "      <td>0</td>\n",
       "      <td>0</td>\n",
       "    </tr>\n",
       "    <tr>\n",
       "      <th>1</th>\n",
       "      <td>14000</td>\n",
       "      <td>9137</td>\n",
       "      <td>0.0</td>\n",
       "      <td>54.3</td>\n",
       "      <td>1.0</td>\n",
       "      <td>4.0</td>\n",
       "      <td>1</td>\n",
       "      <td>2</td>\n",
       "      <td>4</td>\n",
       "      <td>0</td>\n",
       "      <td>...</td>\n",
       "      <td>0</td>\n",
       "      <td>0</td>\n",
       "      <td>0</td>\n",
       "      <td>0</td>\n",
       "      <td>0</td>\n",
       "      <td>0</td>\n",
       "      <td>0</td>\n",
       "      <td>0</td>\n",
       "      <td>0</td>\n",
       "      <td>0</td>\n",
       "    </tr>\n",
       "    <tr>\n",
       "      <th>2</th>\n",
       "      <td>24889</td>\n",
       "      <td>1000</td>\n",
       "      <td>145.0</td>\n",
       "      <td>62.8</td>\n",
       "      <td>1.5</td>\n",
       "      <td>1.0</td>\n",
       "      <td>2</td>\n",
       "      <td>3</td>\n",
       "      <td>1</td>\n",
       "      <td>0</td>\n",
       "      <td>...</td>\n",
       "      <td>0</td>\n",
       "      <td>0</td>\n",
       "      <td>0</td>\n",
       "      <td>0</td>\n",
       "      <td>0</td>\n",
       "      <td>0</td>\n",
       "      <td>0</td>\n",
       "      <td>0</td>\n",
       "      <td>0</td>\n",
       "      <td>0</td>\n",
       "    </tr>\n",
       "    <tr>\n",
       "      <th>3</th>\n",
       "      <td>20605</td>\n",
       "      <td>1910</td>\n",
       "      <td>145.0</td>\n",
       "      <td>57.7</td>\n",
       "      <td>1.6</td>\n",
       "      <td>1.0</td>\n",
       "      <td>2</td>\n",
       "      <td>1</td>\n",
       "      <td>5</td>\n",
       "      <td>0</td>\n",
       "      <td>...</td>\n",
       "      <td>0</td>\n",
       "      <td>0</td>\n",
       "      <td>0</td>\n",
       "      <td>0</td>\n",
       "      <td>0</td>\n",
       "      <td>0</td>\n",
       "      <td>0</td>\n",
       "      <td>0</td>\n",
       "      <td>0</td>\n",
       "      <td>0</td>\n",
       "    </tr>\n",
       "    <tr>\n",
       "      <th>4</th>\n",
       "      <td>13995</td>\n",
       "      <td>27237</td>\n",
       "      <td>30.0</td>\n",
       "      <td>61.7</td>\n",
       "      <td>1.7</td>\n",
       "      <td>4.0</td>\n",
       "      <td>2</td>\n",
       "      <td>1</td>\n",
       "      <td>9</td>\n",
       "      <td>0</td>\n",
       "      <td>...</td>\n",
       "      <td>0</td>\n",
       "      <td>0</td>\n",
       "      <td>0</td>\n",
       "      <td>0</td>\n",
       "      <td>0</td>\n",
       "      <td>0</td>\n",
       "      <td>0</td>\n",
       "      <td>0</td>\n",
       "      <td>0</td>\n",
       "      <td>0</td>\n",
       "    </tr>\n",
       "  </tbody>\n",
       "</table>\n",
       "<p>5 rows × 203 columns</p>\n",
       "</div>"
      ],
      "text/plain": [
       "   price  mileage    tax   mpg  engineSize  age  fuelType_main  \\\n",
       "0  14550    10071  145.0  60.1         1.0  2.0              1   \n",
       "1  14000     9137    0.0  54.3         1.0  4.0              1   \n",
       "2  24889     1000  145.0  62.8         1.5  1.0              2   \n",
       "3  20605     1910  145.0  57.7         1.6  1.0              2   \n",
       "4  13995    27237   30.0  61.7         1.7  4.0              2   \n",
       "\n",
       "   transmission_main  brand_main  model_ 1 Series  ...  model_ Yeti Outdoor  \\\n",
       "0                  1           4                0  ...                    0   \n",
       "1                  2           4                0  ...                    0   \n",
       "2                  3           1                0  ...                    0   \n",
       "3                  1           5                0  ...                    0   \n",
       "4                  1           9                0  ...                    0   \n",
       "\n",
       "   model_ Z3  model_ Z4  model_ Zafira  model_ Zafira Tourer  model_ i3  \\\n",
       "0          0          0              0                     0          0   \n",
       "1          0          0              0                     0          0   \n",
       "2          0          0              0                     0          0   \n",
       "3          0          0              0                     0          0   \n",
       "4          0          0              0                     0          0   \n",
       "\n",
       "   model_ i8  model_180  model_200  model_220  \n",
       "0          0          0          0          0  \n",
       "1          0          0          0          0  \n",
       "2          0          0          0          0  \n",
       "3          0          0          0          0  \n",
       "4          0          0          0          0  \n",
       "\n",
       "[5 rows x 203 columns]"
      ]
     },
     "execution_count": 76,
     "metadata": {},
     "output_type": "execute_result"
    }
   ],
   "source": [
    "# change model column for categories no using get_dummies\n",
    "\n",
    "all_data_expanded = pd.get_dummies(all_data)\n",
    "all_data_expanded.head()"
   ]
  },
  {
   "cell_type": "code",
   "execution_count": 79,
   "metadata": {},
   "outputs": [],
   "source": [
    "# seperate the dataset : response variable (y) and feature variabes (X)\n",
    "\n",
    "X = all_data_expanded.drop('price', axis = 1)\n",
    "y = all_data_expanded['price']"
   ]
  },
  {
   "cell_type": "code",
   "execution_count": 80,
   "metadata": {},
   "outputs": [],
   "source": [
    "# splitting data into train and test \n",
    "\n",
    "X_train, X_test, y_train, y_test = train_test_split(X, y, test_size = 0.2)"
   ]
  },
  {
   "cell_type": "code",
   "execution_count": 86,
   "metadata": {},
   "outputs": [
    {
     "name": "stdout",
     "output_type": "stream",
     "text": [
      "Score train data: 0.8592082187873579\n",
      "Score test data: 0.8409980333988122\n",
      "Mean absolute errors train data: 2302.9051460610513\n",
      "Mean absolute errors test data: 2342.598104268534\n",
      "Mean squared error train data: 13347268.911780722\n",
      "Mean squared error test data: 15395064.035524158\n",
      "Median absolute error train data: 1594.6763216466315\n",
      "Median absolute error test data: 1553.9060805793088\n"
     ]
    }
   ],
   "source": [
    "# Setting model Ridge with default parameters \n",
    "\n",
    "\n",
    "model = make_pipeline(StandardScaler(), Ridge())\n",
    "model.fit(X_train, y_train)\n",
    "y_pred_train = model.predict(X_train)\n",
    "y_pred_test =  model.predict(X_test)\n",
    "print(\"Score train data: {}\".format(model.score(X_train,y_train)))\n",
    "print(\"Score test data: {}\".format(model.score(X_test,y_test)))\n",
    "print(\"Mean absolute errors train data: {}\".format(metrics.mean_absolute_error(y_train, y_pred_train)))\n",
    "print(\"Mean absolute errors test data: {}\".format(metrics.mean_absolute_error(y_test, y_pred_test)))\n",
    "print(\"Mean squared error train data: {}\".format(metrics.mean_squared_error(y_train, y_pred_train)))\n",
    "print(\"Mean squared error test data: {}\".format(metrics.mean_squared_error(y_test, y_pred_test)))\n",
    "print(\"Median absolute error train data: {}\".format(metrics.median_absolute_error(y_train, y_pred_train)))\n",
    "print(\"Median absolute error test data: {}\".format(metrics.median_absolute_error(y_test, y_pred_test)))\n",
    "\n"
   ]
  },
  {
   "cell_type": "code",
   "execution_count": 88,
   "metadata": {},
   "outputs": [
    {
     "name": "stdout",
     "output_type": "stream",
     "text": [
      "Score train data: 0.9938859687725008\n",
      "Score test data: 0.9627307309977097\n",
      "Mean absolute errors train data: 434.18172384670027\n",
      "Mean absolute errors test data: 1141.7117696674395\n",
      "Mean squared error train data: 579619.1952796268\n",
      "Mean squared error test data: 3608526.3290268527\n",
      "Median absolute error train data: 269.58500000000095\n",
      "Median absolute error test data: 730.3400000000001\n"
     ]
    }
   ],
   "source": [
    "# Setting model RandomForest with default parameters \n",
    "\n",
    "model1 = make_pipeline(RandomForestRegressor())\n",
    "model1.fit(X_train, y_train)\n",
    "y_pred_train = model1.predict(X_train)\n",
    "y_pred_test =  model1.predict(X_test)\n",
    "print(\"Score train data: {}\".format(model1.score(X_train,y_train)))\n",
    "print(\"Score test data: {}\".format(model1.score(X_test,y_test)))\n",
    "print(\"Mean absolute errors train data: {}\".format(metrics.mean_absolute_error(y_train, y_pred_train)))\n",
    "print(\"Mean absolute errors test data: {}\".format(metrics.mean_absolute_error(y_test, y_pred_test)))\n",
    "print(\"Mean squared error train data: {}\".format(metrics.mean_squared_error(y_train, y_pred_train)))\n",
    "print(\"Mean squared error test data: {}\".format(metrics.mean_squared_error(y_test, y_pred_test)))\n",
    "print(\"Median absolute error train data: {}\".format(metrics.median_absolute_error(y_train, y_pred_train)))\n",
    "print(\"Median absolute error test data: {}\".format(metrics.median_absolute_error(y_test, y_pred_test)))"
   ]
  },
  {
   "cell_type": "code",
   "execution_count": 89,
   "metadata": {},
   "outputs": [
    {
     "name": "stdout",
     "output_type": "stream",
     "text": [
      "Score train data: 0.9624869319075667\n",
      "Score test data: 0.958035765041543\n",
      "Mean absolute errors train data: 1274.5342076077961\n",
      "Mean absolute errors test data: 1338.5615523115746\n",
      "Mean squared error train data: 3556294.2895042286\n",
      "Mean squared error test data: 4063107.508648896\n",
      "Median absolute error train data: 891.189453125\n",
      "Median absolute error test data: 921.592041015625\n"
     ]
    }
   ],
   "source": [
    "# Setting model XGB with default parameters \n",
    "\n",
    "model2 = make_pipeline(XGBRegressor())\n",
    "model2.fit(X_train, y_train)\n",
    "y_pred_train = model2.predict(X_train)\n",
    "y_pred_test =  model2.predict(X_test)\n",
    "print(\"Score train data: {}\".format(model2.score(X_train,y_train)))\n",
    "print(\"Score test data: {}\".format(model2.score(X_test,y_test)))\n",
    "print(\"Mean absolute errors train data: {}\".format(metrics.mean_absolute_error(y_train, y_pred_train)))\n",
    "print(\"Mean absolute errors test data: {}\".format(metrics.mean_absolute_error(y_test, y_pred_test)))\n",
    "print(\"Mean squared error train data: {}\".format(metrics.mean_squared_error(y_train, y_pred_train)))\n",
    "print(\"Mean squared error test data: {}\".format(metrics.mean_squared_error(y_test, y_pred_test)))\n",
    "print(\"Median absolute error train data: {}\".format(metrics.median_absolute_error(y_train, y_pred_train)))\n",
    "print(\"Median absolute error test data: {}\".format(metrics.median_absolute_error(y_test, y_pred_test)))"
   ]
  },
  {
   "cell_type": "code",
   "execution_count": 104,
   "metadata": {},
   "outputs": [
    {
     "name": "stdout",
     "output_type": "stream",
     "text": [
      "Score train data: 0.9940800304329229\n",
      "Score test data: 0.9635038158790157\n",
      "Mean absolute errors train data: 430.9081394775749\n",
      "Mean absolute errors test data: 1136.8539436889675\n",
      "Mean squared error train data: 561221.8631000629\n",
      "Mean squared error test data: 3533673.850739877\n",
      "Median absolute error train data: 270.2709375000004\n",
      "Median absolute error test data: 727.0849999999991\n"
     ]
    }
   ],
   "source": [
    "# better with 400 estimators instead of 100, we have still a little overfitting \n",
    "\n",
    "model3 = make_pipeline(RandomForestRegressor(n_estimators=400))\n",
    "model3.fit(X_train, y_train)\n",
    "y_pred_train = model3.predict(X_train)\n",
    "y_pred_test =  model3.predict(X_test)\n",
    "print(\"Score train data: {}\".format(model3.score(X_train,y_train)))\n",
    "print(\"Score test data: {}\".format(model3.score(X_test,y_test)))\n",
    "print(\"Mean absolute errors train data: {}\".format(metrics.mean_absolute_error(y_train, y_pred_train)))\n",
    "print(\"Mean absolute errors test data: {}\".format(metrics.mean_absolute_error(y_test, y_pred_test)))\n",
    "print(\"Mean squared error train data: {}\".format(metrics.mean_squared_error(y_train, y_pred_train)))\n",
    "print(\"Mean squared error test data: {}\".format(metrics.mean_squared_error(y_test, y_pred_test)))\n",
    "print(\"Median absolute error train data: {}\".format(metrics.median_absolute_error(y_train, y_pred_train)))\n",
    "print(\"Median absolute error test data: {}\".format(metrics.median_absolute_error(y_test, y_pred_test)))\n",
    "\n"
   ]
  },
  {
   "cell_type": "code",
   "execution_count": null,
   "metadata": {},
   "outputs": [],
   "source": []
  }
 ],
 "metadata": {
  "kernelspec": {
   "display_name": "Python 3",
   "language": "python",
   "name": "python3"
  },
  "language_info": {
   "codemirror_mode": {
    "name": "ipython",
    "version": 3
   },
   "file_extension": ".py",
   "mimetype": "text/x-python",
   "name": "python",
   "nbconvert_exporter": "python",
   "pygments_lexer": "ipython3",
   "version": "3.8.3"
  }
 },
 "nbformat": 4,
 "nbformat_minor": 4
}
